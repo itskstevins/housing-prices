{
 "cells": [
  {
   "cell_type": "code",
   "execution_count": 40,
   "id": "a5ac8a2b",
   "metadata": {},
   "outputs": [],
   "source": [
    "#import pandas as pd\n",
    "import pandas as pd\n",
    "from sklearn.model_selection import train_test_split\n",
    "#path of the file to read\n",
    "melb_path = \"C:/Users/kstevins/Downloads/melb_data/melb_data.csv\"\n",
    "melb_data = pd.read_csv(melb_path)\n",
    "melb_data = melb_data.dropna(axis=0)\n",
    "#melb_data.columns\n",
    "\n",
    "\n",
    "y = melb_data.Price\n",
    "\n",
    "melb_features = ['Rooms', 'Bathroom', 'Landsize', 'BuildingArea', \n",
    "                        'YearBuilt', 'Lattitude', 'Longtitude']\n",
    "\n",
    "X = melb_data[melb_features]\n",
    "\n",
    "#X.head()\n",
    "#X.describe()\n",
    "train_X, val_X, train_y, val_y = train_test_split(X, y, random_state = 0)"
   ]
  },
  {
   "cell_type": "code",
   "execution_count": 44,
   "id": "febbad55",
   "metadata": {},
   "outputs": [
    {
     "data": {
      "text/plain": [
       "243495.96361790417"
      ]
     },
     "execution_count": 44,
     "metadata": {},
     "output_type": "execute_result"
    }
   ],
   "source": [
    "# import \n",
    "from sklearn.tree import DecisionTreeRegressor\n",
    "from sklearn.metrics import mean_absolute_error\n",
    "#specify your model\n",
    "#controlling underfitting and overfitting\n",
    "#melb_model = DecisionTreeRegressor()\n",
    "def get_mae(max_leaf_nodes, train_X, val_x, train_y, val_y):\n",
    "\n",
    "    melb_model = DecisionTreeRegressor(max_leaf_nodes=max_leaf_nodes, random_state = 0)\n",
    "    melb_model.fit(train_X,train_y)\n",
    "    preds_val=melb_model.predict(val_X)\n",
    "    mae = mean_absolute_error(val_y, preds_val)\n",
    "    return(mae)\n",
    "get_mae(500,train_X, val_X, train_y, val_y)\n",
    "# compare MAE with differing values of max_leaf_nodes\n",
    "#for max_leaf_nodes in [5, 50, 500, 5000]:\n",
    "   # my_mae = get_mae(max_leaf_nodes, train_X, val_X, train_y, val_y)\n",
    "    #print(\"Max leaf nodes: %d  \\t\\t Mean Absolute Error:  %d\" %(max_leaf_nodes, my_mae))\n",
    "    \n",
    "    \n",
    "    #candidate_max_leaf_nodes = [5, 25, 50, 100, 250, 500]\n",
    "# Write loop to find the ideal tree size from candidate_max_leaf_nodes\n",
    "#scores = {leaf_size: get_mae(leaf_size, train_X, val_X, train_y, val_y) for leaf_size in candidate_max_leaf_nodes}\n",
    "\n",
    "# Store the best value of max_leaf_nodes (it will be either 5, 25, 50, 100, 250 or 500)\n",
    "#best_tree_size = min(scores, key= scores.get)\n",
    "\n",
    "\n",
    "#fit the model\n",
    "#melb_model.fit(train_X,train_y)\n",
    "\n",
    "#predicted_prices = melb_model.predict(val_X)\n",
    "#print(predicted_prices)\n",
    "#"
   ]
  },
  {
   "cell_type": "code",
   "execution_count": 42,
   "id": "114f3b9e",
   "metadata": {},
   "outputs": [],
   "source": [
    "#calculating Mean Absolute Error\n",
    "#from sklearn.metrics import mean_absolute_error\n",
    "#melb_mae = mean_absolute_error(val_y, predicted_prices)\n",
    "#melb_mae"
   ]
  },
  {
   "cell_type": "code",
   "execution_count": null,
   "id": "a101231f",
   "metadata": {},
   "outputs": [],
   "source": []
  }
 ],
 "metadata": {
  "kernelspec": {
   "display_name": "Python 3 (ipykernel)",
   "language": "python",
   "name": "python3"
  },
  "language_info": {
   "codemirror_mode": {
    "name": "ipython",
    "version": 3
   },
   "file_extension": ".py",
   "mimetype": "text/x-python",
   "name": "python",
   "nbconvert_exporter": "python",
   "pygments_lexer": "ipython3",
   "version": "3.11.5"
  }
 },
 "nbformat": 4,
 "nbformat_minor": 5
}
